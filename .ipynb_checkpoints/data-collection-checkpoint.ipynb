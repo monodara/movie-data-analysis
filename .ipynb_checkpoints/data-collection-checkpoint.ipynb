{
 "cells": [
  {
   "attachments": {},
   "cell_type": "markdown",
   "id": "8e2adc3b",
   "metadata": {},
   "source": [
    "I will collect movie data from [the Movie DB (TMDB) ](https://developers.themoviedb.org/3/getting-started) and analyse 1) the overall development of the movie industry; 2) the development and popularity of different types of movies; 3) the relationship between movie type and profit; 4) the relationship between vote and runtime, vote and revenue; 5) data of movie production countries"
   ]
  },
  {
   "attachments": {},
   "cell_type": "markdown",
   "id": "bffaef76",
   "metadata": {},
   "source": [
    "Import libraries required for data fetching."
   ]
  },
  {
   "cell_type": "code",
   "execution_count": 9,
   "id": "13f1a1d4",
   "metadata": {},
   "outputs": [],
   "source": [
    "import json, requests, urllib\n",
    "import csv\n",
    "import codecs"
   ]
  },
  {
   "attachments": {},
   "cell_type": "markdown",
   "id": "78ae6e87",
   "metadata": {},
   "source": [
    "### Collect data from TMDB"
   ]
  },
  {
   "attachments": {},
   "cell_type": "markdown",
   "id": "9d98e4a5",
   "metadata": {},
   "source": [
    "Settings for the API and data collection. "
   ]
  },
  {
   "cell_type": "code",
   "execution_count": 10,
   "id": "a4ce7288",
   "metadata": {},
   "outputs": [],
   "source": [
    "# API Key\n",
    "api_key_TMDB = \"***\"\n",
    "# Prefix for API URLs\n",
    "TMDB_url = \"https://api.themoviedb.org/3/movie/\"\n",
    "api_prefix_TMDB = f\"https://api.themoviedb.org/3/discover/movie?api_key={api_key_TMDB}&page=\""
   ]
  },
  {
   "attachments": {},
   "cell_type": "markdown",
   "id": "1b02eab9",
   "metadata": {},
   "source": [
    "TMDB API allows two searching ways. \n",
    "First, I get coarse records page by page using a for-loop 500 times to get 10000 pieces of data. \n",
    "Then, using id of each record I fetch more detailed data about each movie."
   ]
  },
  {
   "cell_type": "code",
   "execution_count": 23,
   "id": "96980581",
   "metadata": {},
   "outputs": [],
   "source": [
    "flag = True\n",
    "with open('movie_dataset_3.csv', 'w',encoding='utf-8',newline='')as csvfile:\n",
    "# csvfile = open('movie_dataset_1.csv', 'w', newline='') \n",
    "    writer = csv.writer(csvfile, delimiter=',')\n",
    "    for pageNo in range(1, 500):\n",
    "        url = f\"{api_prefix_TMDB}{pageNo}\"\n",
    "        response = urllib.request.urlopen(url)\n",
    "        raw_json = response.read().decode(\"utf-8\")\n",
    "        page_result = json.loads(raw_json)['results']     \n",
    "        for result in page_result:\n",
    "            movie_id = result['id']\n",
    "            single_movie_url = f\"{TMDB_url}{movie_id}?api_key={api_key_TMDB}\"\n",
    "            response_single = urllib.request.urlopen(single_movie_url)\n",
    "            movie_raw_json = response_single.read().decode(\"utf-8\")\n",
    "            movie_result = json.loads(movie_raw_json)\n",
    "            if flag:\n",
    "                keys = list(movie_result.keys())\n",
    "#                 \n",
    "                writer.writerow(keys) # write the columns' name into csv\n",
    "                flag = False\n",
    "            movie_data_piece = list(movie_result.values())\n",
    "\n",
    "           \n",
    "            writer.writerow(movie_data_piece)  # write movie record into csv                   \n"
   ]
  }
 ],
 "metadata": {
  "kernelspec": {
   "display_name": "Python 3 (ipykernel)",
   "language": "python",
   "name": "python3"
  },
  "language_info": {
   "codemirror_mode": {
    "name": "ipython",
    "version": 3
   },
   "file_extension": ".py",
   "mimetype": "text/x-python",
   "name": "python",
   "nbconvert_exporter": "python",
   "pygments_lexer": "ipython3",
   "version": "3.9.12"
  }
 },
 "nbformat": 4,
 "nbformat_minor": 5
}
